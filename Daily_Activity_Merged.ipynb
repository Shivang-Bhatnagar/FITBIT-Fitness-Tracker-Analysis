{
 "cells": [
  {
   "cell_type": "code",
   "execution_count": null,
   "metadata": {},
   "outputs": [],
   "source": [
    "import pandas as pd\n",
    "import matplotlib.pyplot as plt\n",
    "import seaborn as sns"
   ]
  },
  {
   "cell_type": "code",
   "execution_count": null,
   "metadata": {},
   "outputs": [],
   "source": [
    "daily_df = pd.read_csv(\"OneDrive/Desktop/Capstone_week9/dailyActivity_merged.csv\")"
   ]
  },
  {
   "cell_type": "code",
   "execution_count": null,
   "metadata": {},
   "outputs": [],
   "source": [
    "daily_df.info()"
   ]
  },
  {
   "cell_type": "code",
   "execution_count": null,
   "metadata": {},
   "outputs": [],
   "source": [
    "daily_df.isna().sum()"
   ]
  },
  {
   "cell_type": "code",
   "execution_count": null,
   "metadata": {},
   "outputs": [],
   "source": [
    "duplicate_rows = daily_df.duplicated()\n",
    "\n",
    "# Display rows that are duplicates\n",
    "duplicate_rows = daily_df[duplicate_rows]\n",
    "print(\"Duplicate Rows:\")\n",
    "print(duplicate_rows)"
   ]
  },
  {
   "cell_type": "code",
   "execution_count": null,
   "metadata": {},
   "outputs": [],
   "source": [
    "daily_df.head(5)"
   ]
  },
  {
   "cell_type": "code",
   "execution_count": null,
   "metadata": {},
   "outputs": [],
   "source": [
    "daily_df.tail(5)"
   ]
  },
  {
   "cell_type": "code",
   "execution_count": null,
   "metadata": {},
   "outputs": [],
   "source": [
    "daily_df['ActivityDate'] = pd.to_datetime(daily_df['ActivityDate'])\n",
    "daily_df['ActivityDate']"
   ]
  },
  {
   "cell_type": "code",
   "execution_count": null,
   "metadata": {},
   "outputs": [],
   "source": [
    "Users_activity_count = daily_df.groupby('Id').size().sort_values(ascending=False)\n",
    "Users_activity_count"
   ]
  },
  {
   "cell_type": "code",
   "execution_count": null,
   "metadata": {},
   "outputs": [],
   "source": [
    "plt.figure(figsize=(10, 6))\n",
    "Users_activity_count.plot(kind='bar')\n",
    "plt.title('Total Number of Activity by User')\n",
    "plt.xlabel('User ID')\n",
    "plt.ylabel('Frequency')\n",
    "plt.xticks(rotation=45)\n",
    "plt.grid(True)\n",
    "plt.show()"
   ]
  },
  {
   "cell_type": "code",
   "execution_count": null,
   "metadata": {},
   "outputs": [],
   "source": [
    "plt.figure(figsize=(10, 6))\n",
    "plt.hist(daily_df['TotalSteps'], bins=20, color='skyblue', edgecolor='black')\n",
    "plt.title('Distribution of Total Steps Taken by Users')\n",
    "plt.xlabel('Total Steps')\n",
    "plt.ylabel('Frequency')\n",
    "plt.grid(True)\n",
    "plt.show()"
   ]
  },
  {
   "cell_type": "code",
   "execution_count": null,
   "metadata": {},
   "outputs": [],
   "source": [
    "plt.figure(figsize=(10, 6))\n",
    "plt.hist(daily_df['TotalDistance'], bins=20, color='skyblue', edgecolor='black')\n",
    "plt.title('Distribution of Total Distance Cover by Users')\n",
    "plt.xlabel('Total Distance')\n",
    "plt.ylabel('Frequency')\n",
    "plt.grid(True)\n",
    "plt.show()"
   ]
  },
  {
   "cell_type": "code",
   "execution_count": null,
   "metadata": {},
   "outputs": [],
   "source": [
    "correlation_df = daily_df.drop(columns=['Id', 'ActivityDate']).corr()\n",
    "\n",
    "# Plot heatmap\n",
    "plt.figure(figsize=(10, 8))\n",
    "sns.heatmap(correlation_df, annot=True, cmap='coolwarm', fmt=\".2f\", vmin=-1, vmax=1)\n",
    "plt.title('Correlation Heatmap of Daily Activity Variables')\n",
    "plt.show()"
   ]
  },
  {
   "cell_type": "code",
   "execution_count": null,
   "metadata": {},
   "outputs": [],
   "source": [
    "# Group the data by user ID and calculate the mean of active minutes\n",
    "average_active_minutes = daily_df.groupby('Id')[['VeryActiveMinutes', 'FairlyActiveMinutes', 'LightlyActiveMinutes']].mean()\n",
    "\n",
    "# Display the average active minutes per user\n",
    "average_active_minutes"
   ]
  },
  {
   "cell_type": "code",
   "execution_count": null,
   "metadata": {},
   "outputs": [],
   "source": [
    "plt.figure(figsize=(12, 8))\n",
    "sns.violinplot(x='Id', y='SedentaryMinutes', data=daily_df)\n",
    "plt.title('Comparison of Sedentary Minutes Across Users')\n",
    "plt.xlabel('User ID')\n",
    "plt.ylabel('Sedentary Minutes')\n",
    "plt.xticks(rotation=45)\n",
    "plt.grid(True)\n",
    "plt.show()"
   ]
  },
  {
   "cell_type": "code",
   "execution_count": null,
   "metadata": {},
   "outputs": [],
   "source": [
    "import seaborn as sns\n",
    "import matplotlib.pyplot as plt\n",
    "\n",
    "total_very_active_minutes = daily_df.groupby('Id')['VeryActiveMinutes'].sum()\n",
    "\n",
    "# Create bar plot\n",
    "plt.figure(figsize=(10, 6))\n",
    "total_very_active_minutes.plot(kind='bar')\n",
    "plt.title('Total Very Active Minutes by User')\n",
    "plt.xlabel('User ID')\n",
    "plt.ylabel('Total Very Active Minutes')\n",
    "plt.xticks(rotation=45)\n",
    "plt.grid(True)\n",
    "plt.show()\n"
   ]
  },
  {
   "cell_type": "code",
   "execution_count": null,
   "metadata": {},
   "outputs": [],
   "source": [
    "CaloriesBurned_perday = daily_df.groupby('ActivityDate')['Calories'].sum()\n",
    "CaloriesBurned_perday"
   ]
  },
  {
   "cell_type": "code",
   "execution_count": null,
   "metadata": {},
   "outputs": [],
   "source": [
    "plt.figure(figsize=(18, 6))\n",
    "plt.plot(CaloriesBurned_perday.index, CaloriesBurned_perday.values, marker='o', linestyle='-')\n",
    "plt.title('Total Calories Burned Per Day')\n",
    "plt.xlabel('Date')\n",
    "plt.ylabel('Total Calories Burned')\n",
    "plt.xticks(CaloriesBurned_perday.index, rotation=45, ha='right')\n",
    "plt.grid(True)\n",
    "plt.show()"
   ]
  },
  {
   "cell_type": "code",
   "execution_count": null,
   "metadata": {},
   "outputs": [],
   "source": [
    "daily_df['DayOfWeek'] = daily_df['ActivityDate'].dt.dayofweek\n",
    "daily_df['DayType'] = daily_df['DayOfWeek'].apply(lambda x: 'Weekend' if x >= 5 else 'Weekday')\n",
    "\n",
    "# Plot box plot or violin plot to compare total steps between weekdays and weekends\n",
    "plt.figure(figsize=(10, 6))\n",
    "sns.boxplot(x='DayType', y='TotalSteps', data=daily_df)\n",
    "plt.title('Distribution of Total Steps between Weekdays and Weekends')\n",
    "plt.xlabel('Day Type')\n",
    "plt.ylabel('Total Steps')\n",
    "plt.grid(True)\n",
    "plt.show()"
   ]
  },
  {
   "cell_type": "code",
   "execution_count": null,
   "metadata": {},
   "outputs": [],
   "source": [
    "import matplotlib.pyplot as plt\n",
    "\n",
    "# Calculate total activity distance for each type\n",
    "total_very_active_distance = daily_df['VeryActiveDistance'].sum()\n",
    "total_moderately_active_distance = daily_df['ModeratelyActiveDistance'].sum()\n",
    "total_light_active_distance = daily_df['LightActiveDistance'].sum()\n",
    "total_sedentary_distance = daily_df['SedentaryActiveDistance'].sum()\n",
    "\n",
    "# Create a pie chart\n",
    "labels = ['Very Active', 'Moderately Active', 'Lightly Active','Sedentary']\n",
    "sizes = [total_very_active_distance, total_moderately_active_distance, total_light_active_distance,total_sedentary_distance]\n",
    "colors = ['gold', 'lightcoral', 'lightskyblue','turquoise']\n",
    "explode = (0.1, 0, 0,0)  # explode the 1st slice (Very Active)\n",
    "\n",
    "plt.figure(figsize=(8, 6))\n",
    "plt.pie(sizes, explode=explode, labels=labels, colors=colors, autopct='%1.1f%%', shadow=True, startangle=140)\n",
    "plt.title('Distribution of Activity Distance by Type')\n",
    "plt.axis('equal')  # Equal aspect ratio ensures that pie is drawn as a circle\n",
    "plt.show()\n"
   ]
  },
  {
   "cell_type": "code",
   "execution_count": null,
   "metadata": {},
   "outputs": [],
   "source": [
    "top_users_calories = daily_df.groupby('Id')['Calories'].sum().nlargest(5)\n",
    "top_users_calories.plot(kind='bar', figsize=(10, 6), color = 'steelblue', edgecolor='black')\n",
    "plt.title('Top 5 Users by Calorie Burned')\n",
    "plt.xlabel('User ID')\n",
    "plt.ylabel('Total Calories Burned')\n",
    "plt.xticks(rotation=45)\n",
    "plt.grid(True)\n",
    "plt.show()\n"
   ]
  },
  {
   "cell_type": "code",
   "execution_count": null,
   "metadata": {},
   "outputs": [],
   "source": [
    "top_users_stepstaken = daily_df.groupby('Id')['TotalSteps'].sum().nlargest(5)\n",
    "top_users_stepstaken.plot(kind='bar', figsize=(10, 6), color = 'darkturquoise', edgecolor='black')\n",
    "plt.title('Top 5 Users by Steps Taken')\n",
    "plt.xlabel('User ID')\n",
    "plt.ylabel('Total Steps')\n",
    "plt.xticks(rotation=45)\n",
    "plt.grid(True)\n",
    "plt.show()"
   ]
  },
  {
   "cell_type": "code",
   "execution_count": null,
   "metadata": {},
   "outputs": [],
   "source": [
    "correlation = daily_df['VeryActiveMinutes'].corr(daily_df['Calories'])\n",
    "\n",
    "# Plot a scatter plot to visualize the relationship\n",
    "plt.figure(figsize=(8, 6))\n",
    "sns.scatterplot(x='VeryActiveMinutes', y='Calories', data=daily_df)\n",
    "plt.title('Relationship between Active Minutes and Calories Burned')\n",
    "plt.xlabel('Active Minutes')\n",
    "plt.ylabel('Calories Burned')\n",
    "plt.grid(True)\n",
    "plt.show()\n",
    "\n",
    "print('The Correlation coeficient is:', correlation)"
   ]
  },
  {
   "cell_type": "code",
   "execution_count": null,
   "metadata": {},
   "outputs": [],
   "source": []
  }
 ],
 "metadata": {
  "kernelspec": {
   "display_name": "Python 3",
   "language": "python",
   "name": "python3"
  },
  "language_info": {
   "codemirror_mode": {
    "name": "ipython",
    "version": 3
   },
   "file_extension": ".py",
   "mimetype": "text/x-python",
   "name": "python",
   "nbconvert_exporter": "python",
   "pygments_lexer": "ipython3",
   "version": "3.8.3"
  }
 },
 "nbformat": 4,
 "nbformat_minor": 4
}
