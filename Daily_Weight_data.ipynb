{
 "cells": [
  {
   "cell_type": "code",
   "execution_count": null,
   "metadata": {},
   "outputs": [],
   "source": [
    "import pandas as pd\n",
    "import seaborn as sns\n",
    "import matplotlib.pyplot as plt\n",
    "import numpy as np"
   ]
  },
  {
   "cell_type": "code",
   "execution_count": null,
   "metadata": {},
   "outputs": [],
   "source": [
    "weight_df = pd.read_csv(\"OneDrive/Desktop/Capstone_week9/weightLogInfo_merged.csv\")"
   ]
  },
  {
   "cell_type": "code",
   "execution_count": null,
   "metadata": {},
   "outputs": [],
   "source": [
    "weight_df.head(5)"
   ]
  },
  {
   "cell_type": "code",
   "execution_count": null,
   "metadata": {},
   "outputs": [],
   "source": [
    "weight_df.tail(5)"
   ]
  },
  {
   "cell_type": "code",
   "execution_count": null,
   "metadata": {},
   "outputs": [],
   "source": [
    "weight_df.describe()"
   ]
  },
  {
   "cell_type": "code",
   "execution_count": null,
   "metadata": {},
   "outputs": [],
   "source": [
    "weight_df.info()"
   ]
  },
  {
   "cell_type": "code",
   "execution_count": null,
   "metadata": {},
   "outputs": [],
   "source": [
    "weight_df.isna().sum()"
   ]
  },
  {
   "cell_type": "code",
   "execution_count": null,
   "metadata": {},
   "outputs": [],
   "source": [
    "weight_df.drop(columns='Fat',inplace=True)"
   ]
  },
  {
   "cell_type": "code",
   "execution_count": null,
   "metadata": {},
   "outputs": [],
   "source": [
    "weight_df.isna().sum()"
   ]
  },
  {
   "cell_type": "code",
   "execution_count": null,
   "metadata": {},
   "outputs": [],
   "source": [
    "weight_df['Date'] = pd.to_datetime(weight_df['Date'])\n",
    "\n",
    "weight_df['Day'] = weight_df['Date'].dt.date\n",
    "weight_df['Month'] = weight_df['Date'].dt.month\n"
   ]
  },
  {
   "cell_type": "code",
   "execution_count": null,
   "metadata": {},
   "outputs": [],
   "source": [
    "weight_df['Day'] = pd.to_datetime(weight_df['Day'])"
   ]
  },
  {
   "cell_type": "code",
   "execution_count": null,
   "metadata": {},
   "outputs": [],
   "source": [
    "fig, axes = plt.subplots(1, 3, figsize=(18, 6))\n",
    "\n",
    "sns.boxplot(x='WeightKg', data=weight_df, ax=axes[0])\n",
    "axes[0].set_title('Boxplot of Weight in KG')\n",
    "axes[0].set_xlabel('Weight (kg)')\n",
    "\n",
    "sns.boxplot(x='WeightPounds', data=weight_df, ax=axes[1])\n",
    "axes[1].set_title('Boxplot of Weight in Pounds')\n",
    "axes[1].set_xlabel('Weight (Pounds)')\n",
    "\n",
    "sns.violinplot(x='BMI', data=weight_df, ax=axes[2])\n",
    "axes[2].set_title('Violin Plot of BMI')\n",
    "axes[2].set_xlabel('BMI')\n",
    "\n",
    "plt.show()"
   ]
  },
  {
   "cell_type": "code",
   "execution_count": null,
   "metadata": {},
   "outputs": [],
   "source": [
    "corr_df = weight_df[['WeightKg','WeightPounds','BMI']]\n",
    "corr = corr_df.corr()\n",
    "plt.figure(figsize=(10, 8))\n",
    "sns.heatmap(corr, annot=True, cmap='coolwarm', fmt=\".2f\", annot_kws={\"size\": 10})\n",
    "plt.title('Correlation Heatmap')\n",
    "plt.show()"
   ]
  },
  {
   "cell_type": "code",
   "execution_count": null,
   "metadata": {},
   "outputs": [],
   "source": [
    "# Group by 'Id' and calculate the mean weight for each user\n",
    "mean_weight_per_user = weight_df.groupby('Id')['WeightKg'].mean()\n",
    "\n",
    "# Print the resulting Series\n",
    "print(mean_weight_per_user)\n"
   ]
  },
  {
   "cell_type": "code",
   "execution_count": null,
   "metadata": {},
   "outputs": [],
   "source": [
    "mean_weight = mean_weight_per_user.mean()\n",
    "mean_weight"
   ]
  },
  {
   "cell_type": "code",
   "execution_count": null,
   "metadata": {},
   "outputs": [],
   "source": [
    "plt.figure(figsize=(10, 6))\n",
    "sns.barplot(x=mean_weight_per_user.index, y=mean_weight_per_user.values, color='skyblue', label='Mean Weight per User')\n",
    "\n",
    "# Plot trend line for mean weight of all users\n",
    "plt.axhline(y=mean_weight, color='red', linestyle='--', label='Mean Weight of All Users')\n",
    "\n",
    "# Add labels and title\n",
    "plt.xlabel('User ID')\n",
    "plt.ylabel('Mean Weight (kg)')\n",
    "plt.title('Mean Weight of Users with Trend Line')\n",
    "\n",
    "# Add legend\n",
    "plt.legend()"
   ]
  },
  {
   "cell_type": "code",
   "execution_count": null,
   "metadata": {},
   "outputs": [],
   "source": [
    "grouped_data = weight_df.groupby(['Id','Day'])\n",
    "grouped_data"
   ]
  },
  {
   "cell_type": "code",
   "execution_count": null,
   "metadata": {},
   "outputs": [],
   "source": [
    "filtered_data = grouped_data.filter(lambda x: x['Id'].iloc[0] == 1927972279 )\n",
    "print(filtered_data)"
   ]
  },
  {
   "cell_type": "code",
   "execution_count": null,
   "metadata": {},
   "outputs": [],
   "source": [
    "import matplotlib.pyplot as plt\n",
    "\n",
    "# Group the DataFrame by 'Id'\n",
    "grouped_data = weight_df.groupby('Id')\n",
    "\n",
    "# Determine the number of subplots needed based on the number of unique users\n",
    "num_subplots = len(grouped_data)\n",
    "\n",
    "# Define the number of rows and columns for the subplots grid\n",
    "num_rows = num_subplots\n",
    "num_cols = 1  # Each user gets their own subplot\n",
    "\n",
    "# Create subplots\n",
    "fig, axes = plt.subplots(num_rows, num_cols, figsize=(10, 6*num_rows), sharex=True)\n",
    "\n",
    "# Iterate over each group (i.e., each user) and plot their weight measurements over time\n",
    "for i, (user_id, group_data) in enumerate(grouped_data):\n",
    "    row = i\n",
    "    ax = axes if num_rows == 1 else axes[row]\n",
    "    \n",
    "    # Check if the user has sufficient data points for plotting\n",
    "    if len(group_data) >= 2:  # Adjust this threshold as needed\n",
    "        ax.plot(group_data['Date'], group_data['WeightKg'], label=f'User {user_id}')\n",
    "        ax.set_title(f'Weight Trend for User {user_id}')\n",
    "        ax.set_xlabel('Date')\n",
    "        ax.set_ylabel('Weight (Kg)')\n",
    "        ax.grid(True)\n",
    "        ax.legend()\n",
    "    else:\n",
    "        ax.text(0.5, 0.5, f'User {user_id} has insufficient data', \n",
    "                horizontalalignment='center', verticalalignment='center', \n",
    "                transform=ax.transAxes, fontsize=12, color='red')\n",
    "\n",
    "# Adjust layout and show plot\n",
    "plt.show()\n"
   ]
  },
  {
   "cell_type": "code",
   "execution_count": null,
   "metadata": {},
   "outputs": [],
   "source": [
    "manual_measurements = weight_df[weight_df['IsManualReport']]\n",
    "automated_measurements = weight_df[~weight_df['IsManualReport']]\n",
    "\n",
    "plt.figure(figsize=(10, 6))\n",
    "sns.violinplot(x='IsManualReport', y='WeightKg', data=weight_df)\n",
    "plt.title('Violin Plot of Weight Measurements by Reporting Type')\n",
    "plt.xlabel('Reporting Type')\n",
    "plt.ylabel('Weight (kg)')\n",
    "plt.xticks([0, 1], ['Automated', 'Manual Report'])\n",
    "plt.show()\n",
    "\n",
    "# Plot boxplots\n",
    "plt.figure(figsize=(10, 6))\n",
    "sns.boxplot(x='IsManualReport', y='WeightKg', data=weight_df)\n",
    "plt.title('Boxplot of Weight Measurements by Reporting Type')\n",
    "plt.xlabel('Reporting Type')\n",
    "plt.ylabel('Weight (kg)')\n",
    "plt.xticks([0, 1], ['Automated', 'Manual Report'])\n",
    "plt.show()"
   ]
  },
  {
   "cell_type": "code",
   "execution_count": null,
   "metadata": {},
   "outputs": [],
   "source": [
    "plt.figure(figsize=(10, 6))\n",
    "colors = ['#1f77b4', '#ff7f0e']\n",
    "sns.countplot(x='IsManualReport', data=weight_df,palette=colors)\n",
    "plt.title('Count of Weight Measurements by Reporting Type')\n",
    "plt.xlabel('Reporting Type')\n",
    "plt.ylabel('Count')\n",
    "plt.xticks([0, 1], ['Automated', 'Manual Report'])\n",
    "plt.show()"
   ]
  },
  {
   "cell_type": "code",
   "execution_count": null,
   "metadata": {},
   "outputs": [],
   "source": []
  }
 ],
 "metadata": {
  "kernelspec": {
   "display_name": "Python 3",
   "language": "python",
   "name": "python3"
  },
  "language_info": {
   "codemirror_mode": {
    "name": "ipython",
    "version": 3
   },
   "file_extension": ".py",
   "mimetype": "text/x-python",
   "name": "python",
   "nbconvert_exporter": "python",
   "pygments_lexer": "ipython3",
   "version": "3.8.3"
  }
 },
 "nbformat": 4,
 "nbformat_minor": 4
}
