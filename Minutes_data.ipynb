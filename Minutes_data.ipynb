{
 "cells": [
  {
   "cell_type": "code",
   "execution_count": null,
   "metadata": {},
   "outputs": [],
   "source": [
    "import pandas as pd\n",
    "import seaborn as sns\n",
    "import matplotlib.pyplot as plt\n",
    "import numpy as np\n",
    "import matplotlib.dates as mdates"
   ]
  },
  {
   "cell_type": "code",
   "execution_count": null,
   "metadata": {},
   "outputs": [],
   "source": [
    "df1 = pd.read_csv(\"OneDrive/Desktop/Capstone_week9/minuteCaloriesNarrow_merged.csv\")\n",
    "df2 = pd.read_csv(\"OneDrive/Desktop/Capstone_week9/minuteCaloriesWide_merged.csv\")\n",
    "df3 = pd.read_csv(\"OneDrive/Desktop/Capstone_week9/minuteIntensitiesNarrow_merged.csv\")\n",
    "df4 = pd.read_csv(\"OneDrive/Desktop/Capstone_week9/minuteIntensitiesWide_merged.csv\")\n",
    "df5 = pd.read_csv(\"OneDrive/Desktop/Capstone_week9/minuteMETsNarrow_merged.csv\")\n",
    "df6 = pd.read_csv(\"OneDrive/Desktop/Capstone_week9/minuteSleep_merged.csv\")\n",
    "df7 = pd.read_csv(\"OneDrive/Desktop/Capstone_week9/minuteStepsNarrow_merged.csv\")\n",
    "df8 = pd.read_csv(\"OneDrive/Desktop/Capstone_week9/minuteStepsWide_merged.csv\")"
   ]
  },
  {
   "cell_type": "code",
   "execution_count": null,
   "metadata": {},
   "outputs": [],
   "source": [
    "mergedWide_df = pd.merge(df2, df4)\n",
    "mergedWide_df = pd.merge(mergedWide_df,df8)"
   ]
  },
  {
   "cell_type": "code",
   "execution_count": null,
   "metadata": {},
   "outputs": [],
   "source": [
    "mergedWide_df.head(5)"
   ]
  },
  {
   "cell_type": "code",
   "execution_count": null,
   "metadata": {},
   "outputs": [],
   "source": [
    "mergedWide_df.tail(5)"
   ]
  },
  {
   "cell_type": "code",
   "execution_count": null,
   "metadata": {},
   "outputs": [],
   "source": [
    "mergedWide_df.info()"
   ]
  },
  {
   "cell_type": "code",
   "execution_count": null,
   "metadata": {},
   "outputs": [],
   "source": [
    "duplicate_rows = mergedWide_df.duplicated()\n",
    "\n",
    "# Display rows that are duplicates\n",
    "duplicate_rows = mergedWide_df[duplicate_rows]\n",
    "print(\"Duplicate Rows:\")\n",
    "print(duplicate_rows)"
   ]
  },
  {
   "cell_type": "code",
   "execution_count": null,
   "metadata": {},
   "outputs": [],
   "source": [
    "mergedWide_df.isna().sum().sort_values()"
   ]
  },
  {
   "cell_type": "code",
   "execution_count": null,
   "metadata": {},
   "outputs": [],
   "source": [
    "mergedWide_df['ActivityHour'] = pd.to_datetime(mergedWide_df['ActivityHour'])"
   ]
  },
  {
   "cell_type": "code",
   "execution_count": null,
   "metadata": {},
   "outputs": [],
   "source": [
    "calorie_columns = mergedWide_df.filter(like='Calories')\n",
    "\n",
    "# Calculate the average calorie burn for each minute\n",
    "average_calorie_burn_per_minute = calorie_columns.mean()\n",
    "\n",
    "# Print the result\n",
    "print(\"Average Calorie Burn per Minute:\")\n",
    "print(average_calorie_burn_per_minute)"
   ]
  },
  {
   "cell_type": "code",
   "execution_count": null,
   "metadata": {},
   "outputs": [],
   "source": [
    "plt.figure(figsize=(16, 6))\n",
    "plt.plot(average_calorie_burn_per_minute.index, average_calorie_burn_per_minute.values, marker='o', linestyle='-')\n",
    "plt.title('Average Calorie Burn per Minute')\n",
    "plt.xlabel('Minute')\n",
    "plt.ylabel('Average Calorie Burn')\n",
    "plt.grid(True)\n",
    "plt.xticks(rotation=45)\n",
    "plt.tight_layout()\n",
    "plt.show()"
   ]
  },
  {
   "cell_type": "code",
   "execution_count": null,
   "metadata": {},
   "outputs": [],
   "source": [
    "hourly_data = mergedWide_df.groupby('ActivityHour').sum()\n",
    "\n",
    "# Visualize the patterns\n",
    "plt.figure(figsize=(12, 8))\n",
    "\n",
    "# Plot hourly trends for calories\n",
    "plt.plot(hourly_data.index, hourly_data.filter(like='Calories').sum(axis=1), label='Calories', color='blue')\n",
    "\n",
    "# Plot hourly trends for steps\n",
    "plt.plot(hourly_data.index, hourly_data.filter(like='Steps').sum(axis=1), label='Steps', color='green')\n",
    "\n",
    "# Plot hourly trends for intensity\n",
    "plt.plot(hourly_data.index, hourly_data.filter(like='Intensity').sum(axis=1), label='Intensity', color='orange')\n",
    "\n",
    "plt.title('Hourly Trends of Calorie Burn, Steps, and Intensity')\n",
    "plt.xlabel('Time')\n",
    "plt.ylabel('Value')\n",
    "plt.legend()\n",
    "plt.grid(True)\n",
    "plt.xticks(rotation=45)\n",
    "plt.tight_layout()\n",
    "plt.show()"
   ]
  },
  {
   "cell_type": "code",
   "execution_count": null,
   "metadata": {},
   "outputs": [],
   "source": [
    "calories_steps_intensity = mergedWide_df.iloc[:, 2:]  # Assuming the first two columns are ID and ActivityHour\n",
    "\n",
    "# Calculate correlation coefficients\n",
    "correlation_matrix = calories_steps_intensity.corr()\n",
    "\n",
    "# Print correlation matrix\n",
    "print(\"Correlation Matrix:\")\n",
    "print(correlation_matrix)"
   ]
  },
  {
   "cell_type": "code",
   "execution_count": null,
   "metadata": {},
   "outputs": [],
   "source": [
    "numeric_columns = mergedWide_df.select_dtypes(include=[np.number]).columns\n",
    "\n",
    "# Aggregate data for each user\n",
    "user_metrics = mergedWide_df.groupby('Id')[numeric_columns].sum()\n",
    "\n",
    "# Calculate additional metrics\n",
    "user_metrics['Total Calories'] = user_metrics.filter(like='Calories').sum(axis=1)\n",
    "user_metrics['Total Steps'] = user_metrics.filter(like='Steps').sum(axis=1)\n",
    "user_metrics['Average Intensity'] = user_metrics.filter(like='Intensity').mean(axis=1)\n",
    "\n",
    "# Find user with highest total calories burned\n",
    "max_calories_user = user_metrics['Total Calories'].idxmax()\n",
    "\n",
    "# Find user with highest total steps taken\n",
    "max_steps_user = user_metrics['Total Steps'].idxmax()\n",
    "\n",
    "# Find user with highest average intensity\n",
    "max_intensity_user = user_metrics['Average Intensity'].idxmax()\n",
    "\n",
    "# Visualize the metrics using bar plots\n",
    "plt.figure(figsize=(12, 8))\n",
    "\n",
    "# Bar plot for total calories burned\n",
    "plt.subplot(2, 2, 1)\n",
    "user_metrics['Total Calories'].plot(kind='bar', color='blue')\n",
    "plt.title('Total Calories Burned by User')\n",
    "plt.xlabel('User ID')\n",
    "plt.ylabel('Total Calories Burned')\n",
    "\n",
    "# Bar plot for total steps taken\n",
    "plt.subplot(2, 2, 2)\n",
    "user_metrics['Total Steps'].plot(kind='bar', color='green')\n",
    "plt.title('Total Steps Taken by User')\n",
    "plt.xlabel('User ID')\n",
    "plt.ylabel('Total Steps Taken')\n",
    "\n",
    "# Bar plot for average intensity\n",
    "plt.subplot(2, 2, 3)\n",
    "user_metrics['Average Intensity'].plot(kind='bar', color='orange')\n",
    "plt.title('Average Intensity by User')\n",
    "plt.xlabel('User ID')\n",
    "plt.ylabel('Average Intensity')\n",
    "\n",
    "plt.tight_layout()\n",
    "plt.show()\n",
    "\n",
    "# Print users with highest metrics\n",
    "print(\"User with highest total calories burned:\", max_calories_user)\n",
    "print(\"User with highest total steps taken:\", max_steps_user)\n",
    "print(\"User with highest average intensity:\", max_intensity_user)"
   ]
  },
  {
   "cell_type": "code",
   "execution_count": null,
   "metadata": {},
   "outputs": [],
   "source": [
    "max_calories_user"
   ]
  },
  {
   "cell_type": "code",
   "execution_count": null,
   "metadata": {},
   "outputs": [],
   "source": [
    "user_data = mergedWide_df[mergedWide_df['Id'] == 8378563200].iloc[:,1:]\n",
    "user_data.set_index('ActivityHour', inplace=True)"
   ]
  },
  {
   "cell_type": "code",
   "execution_count": null,
   "metadata": {},
   "outputs": [],
   "source": [
    "user_data"
   ]
  },
  {
   "cell_type": "code",
   "execution_count": null,
   "metadata": {},
   "outputs": [],
   "source": [
    "total_daily_calories = user_data.filter(like='Calories').sum(axis=1)\n",
    "total_daily_calories = total_daily_calories.resample('D').sum()"
   ]
  },
  {
   "cell_type": "code",
   "execution_count": null,
   "metadata": {},
   "outputs": [],
   "source": [
    "total_daily_calories"
   ]
  },
  {
   "cell_type": "code",
   "execution_count": null,
   "metadata": {},
   "outputs": [],
   "source": [
    "plt.figure(figsize=(10, 6))\n",
    "plt.plot(total_daily_calories.index, total_daily_calories.values, marker='o', linestyle='-')\n",
    "plt.title(f'Total Daily Calories for User with Most Calorie Burns: {max_calories_user}')\n",
    "plt.xlabel('Date')\n",
    "plt.ylabel('Total Daily Calories')\n",
    "plt.xticks(rotation=45)\n",
    "plt.grid(True)\n",
    "plt.tight_layout()\n",
    "plt.show()"
   ]
  },
  {
   "cell_type": "code",
   "execution_count": null,
   "metadata": {},
   "outputs": [],
   "source": [
    "total_daily_steps = user_data.filter(like='Steps').sum(axis=1)\n",
    "total_daily_steps = total_daily_steps.resample('D').sum()"
   ]
  },
  {
   "cell_type": "code",
   "execution_count": null,
   "metadata": {},
   "outputs": [],
   "source": [
    "plt.figure(figsize=(10, 6))\n",
    "plt.plot(total_daily_steps.index, total_daily_steps.values, marker='o', linestyle='-',color='coral')\n",
    "plt.title(f'Total Daily Steps for User with Most Steps Taken: {max_steps_user}')\n",
    "plt.xlabel('Date')\n",
    "plt.ylabel('Total Steps')\n",
    "plt.xticks(rotation=45)\n",
    "plt.grid(True)\n",
    "plt.tight_layout()\n",
    "plt.show()"
   ]
  },
  {
   "cell_type": "code",
   "execution_count": null,
   "metadata": {},
   "outputs": [],
   "source": [
    "max_daily_intensity = user_data.filter(like='Intensity').sum(axis=1)\n",
    "max_daily_intensity = max_daily_intensity.resample('D').sum()"
   ]
  },
  {
   "cell_type": "code",
   "execution_count": null,
   "metadata": {},
   "outputs": [],
   "source": [
    "plt.figure(figsize=(10, 6))\n",
    "plt.plot(max_daily_intensity.index, max_daily_intensity.values, marker='o', linestyle='-',color='forestgreen')\n",
    "plt.title(f'Daily Intenisty for User with Most Intensity: {max_intensity_user}')\n",
    "plt.xlabel('Date')\n",
    "plt.ylabel('Total Intensity')\n",
    "plt.xticks(rotation=45)\n",
    "plt.grid(True)\n",
    "plt.tight_layout()\n",
    "plt.show()"
   ]
  },
  {
   "cell_type": "code",
   "execution_count": null,
   "metadata": {},
   "outputs": [],
   "source": []
  }
 ],
 "metadata": {
  "kernelspec": {
   "display_name": "Python 3",
   "language": "python",
   "name": "python3"
  },
  "language_info": {
   "codemirror_mode": {
    "name": "ipython",
    "version": 3
   },
   "file_extension": ".py",
   "mimetype": "text/x-python",
   "name": "python",
   "nbconvert_exporter": "python",
   "pygments_lexer": "ipython3",
   "version": "3.8.3"
  }
 },
 "nbformat": 4,
 "nbformat_minor": 4
}
