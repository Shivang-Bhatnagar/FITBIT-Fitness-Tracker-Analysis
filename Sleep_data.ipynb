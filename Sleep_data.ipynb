{
 "cells": [
  {
   "cell_type": "code",
   "execution_count": null,
   "metadata": {},
   "outputs": [],
   "source": [
    "import numpy as np\n",
    "import pandas as pd\n",
    "import seaborn as sns\n",
    "import matplotlib.pyplot as plt"
   ]
  },
  {
   "cell_type": "code",
   "execution_count": null,
   "metadata": {},
   "outputs": [],
   "source": [
    "sleep_df = pd.read_csv(\"OneDrive/Desktop/Capstone_week9/sleepDay_merged.csv\")"
   ]
  },
  {
   "cell_type": "code",
   "execution_count": null,
   "metadata": {},
   "outputs": [],
   "source": [
    "sleep_df.head(5)"
   ]
  },
  {
   "cell_type": "code",
   "execution_count": null,
   "metadata": {},
   "outputs": [],
   "source": [
    "sleep_df.tail(5)"
   ]
  },
  {
   "cell_type": "code",
   "execution_count": null,
   "metadata": {},
   "outputs": [],
   "source": [
    "sleep_df.describe()"
   ]
  },
  {
   "cell_type": "code",
   "execution_count": null,
   "metadata": {},
   "outputs": [],
   "source": [
    "sleep_df.info()"
   ]
  },
  {
   "cell_type": "code",
   "execution_count": null,
   "metadata": {},
   "outputs": [],
   "source": [
    "sleep_df.isna().sum()"
   ]
  },
  {
   "cell_type": "code",
   "execution_count": null,
   "metadata": {},
   "outputs": [],
   "source": [
    "sleep_df['SleepDay'] = pd.to_datetime(sleep_df['SleepDay'])"
   ]
  },
  {
   "cell_type": "code",
   "execution_count": null,
   "metadata": {},
   "outputs": [],
   "source": [
    "sleep_df['IdleTime'] = sleep_df['TotalTimeInBed'] - sleep_df['TotalMinutesAsleep']"
   ]
  },
  {
   "cell_type": "code",
   "execution_count": null,
   "metadata": {},
   "outputs": [],
   "source": [
    "sleep_df['SleepDuration'] = sleep_df['TotalMinutesAsleep'] / 60"
   ]
  },
  {
   "cell_type": "code",
   "execution_count": null,
   "metadata": {},
   "outputs": [],
   "source": [
    "sleep_df.sample(5)"
   ]
  },
  {
   "cell_type": "code",
   "execution_count": null,
   "metadata": {},
   "outputs": [],
   "source": [
    "fig,axes = plt.subplots(1,3,figsize=(18,6))\n",
    "\n",
    "sns.boxplot(x='TotalSleepRecords', data=sleep_df, ax=axes[0])\n",
    "axes[0].set_title('Boxplot of Sleep Records')\n",
    "axes[0].set_xlabel('Sleep Records')\n",
    "\n",
    "sns.violinplot(x='TotalMinutesAsleep', data=sleep_df, ax=axes[1])\n",
    "axes[1].set_title('Boxplot of Total Minutes of Sleep')\n",
    "axes[1].set_xlabel('Total Minutes')\n",
    "\n",
    "sns.boxplot(x='TotalTimeInBed', data=sleep_df, ax=axes[2])\n",
    "axes[2].set_title('Boxplot of Total Time in Bed')\n",
    "axes[2].set_xlabel('Total MInutes')\n",
    "\n",
    "plt.tight_layout()\n",
    "plt.show()"
   ]
  },
  {
   "cell_type": "code",
   "execution_count": null,
   "metadata": {},
   "outputs": [],
   "source": [
    "corr_df = sleep_df[['TotalSleepRecords','TotalMinutesAsleep','TotalTimeInBed','IdleTime','SleepDuration']]\n",
    "corr = corr_df.corr()\n",
    "plt.figure(figsize=(10, 8))\n",
    "sns.heatmap(corr, annot=True, cmap='coolwarm', fmt=\".2f\", annot_kws={\"size\": 10})\n",
    "plt.title('Correlation Heatmap')\n",
    "plt.show()"
   ]
  },
  {
   "cell_type": "code",
   "execution_count": null,
   "metadata": {},
   "outputs": [],
   "source": [
    "avg_sleep_duration = sleep_df.groupby('Id')['SleepDuration'].mean()\n",
    "\n",
    "# Visualize the distribution of sleep duration across all users\n",
    "plt.figure(figsize=(10, 6))\n",
    "sns.histplot(avg_sleep_duration, bins=20, kde=True)\n",
    "plt.title('Distribution of Average Sleep Duration')\n",
    "plt.xlabel('Average Sleep Duration (hours)')\n",
    "plt.ylabel('Frequency')\n",
    "plt.show()"
   ]
  },
  {
   "cell_type": "code",
   "execution_count": null,
   "metadata": {},
   "outputs": [],
   "source": [
    "avg_sleep_duration_per_day = sleep_df.groupby('SleepDay')['SleepDuration'].mean() / 60\n",
    "\n",
    "# Plot the average sleep duration over time\n",
    "plt.figure(figsize=(12, 6))\n",
    "plt.plot(avg_sleep_duration_per_day.index, avg_sleep_duration_per_day.values, marker='o', linestyle='-')\n",
    "plt.title('Average Sleep Duration Over Time')\n",
    "plt.xlabel('Date')\n",
    "plt.ylabel('Average Sleep Duration (hours)')\n",
    "plt.xticks(rotation=45)\n",
    "plt.grid(True)\n",
    "plt.tight_layout()\n",
    "plt.show()"
   ]
  },
  {
   "cell_type": "code",
   "execution_count": null,
   "metadata": {},
   "outputs": [],
   "source": [
    "sleep_df['DayOfWeek'] = sleep_df['SleepDay'].dt.day_name()\n",
    "\n",
    "# Calculate sleep metrics for each day of the week\n",
    "sleep_metrics_per_day = sleep_df.groupby(['Id', 'DayOfWeek']).agg({'TotalMinutesAsleep': 'mean', 'TotalTimeInBed': 'mean'})\n",
    "\n",
    "# Plot sleep metrics for each day of the week\n",
    "plt.figure(figsize=(12, 6))\n",
    "\n",
    "# Loop through each user\n",
    "for user_id, user_data in sleep_metrics_per_day.groupby(level=0):\n",
    "    plt.plot(user_data.index.get_level_values('DayOfWeek'), user_data['TotalMinutesAsleep'], label=f'User {user_id}')\n",
    "\n",
    "plt.title('Average Sleep Duration by Day of the Week')\n",
    "plt.xlabel('Day of the Week')\n",
    "plt.ylabel('Average Sleep Duration (minutes)')\n",
    "plt.legend()\n",
    "plt.xticks(rotation=45)\n",
    "plt.grid(True)\n",
    "plt.tight_layout()\n",
    "plt.show()"
   ]
  },
  {
   "cell_type": "code",
   "execution_count": null,
   "metadata": {},
   "outputs": [],
   "source": [
    "total_sleep_per_user = sleep_df.groupby('Id')['TotalMinutesAsleep'].sum()\n",
    "\n",
    "# Select top N users with the highest total sleep duration\n",
    "N = 5\n",
    "top_users = total_sleep_per_user.nlargest(N)\n",
    "\n",
    "# Filter sleep data for the selected users\n",
    "selected_users_data = sleep_df[sleep_df['Id'].isin(top_users.index)]\n",
    "\n",
    "# Plot sleep data for selected users\n",
    "num_rows = (N + 1) // 2\n",
    "fig, axes = plt.subplots(nrows=num_rows, ncols=2, figsize=(15, 6 * num_rows))\n",
    "\n",
    "# Plot sleep data for each user\n",
    "for i, (user_id, user_data) in enumerate(selected_users_data.groupby('Id')):\n",
    "    row = i // 2\n",
    "    col = i % 2\n",
    "    ax = axes[row, col]\n",
    "    ax.plot(user_data['SleepDay'], user_data['TotalMinutesAsleep'])\n",
    "    ax.set_xlabel('Date')\n",
    "    ax.set_ylabel('Total Minutes Asleep')\n",
    "    ax.set_title(f'Sleep Duration for User {user_id}')\n",
    "    ax.tick_params(axis='x', rotation=45)\n",
    "    ax.grid(True)\n",
    "\n",
    "# Hide empty subplots if N is odd\n",
    "if N % 2 != 0:\n",
    "    axes[-1, -1].axis('off')\n",
    "\n",
    "plt.tight_layout()\n",
    "plt.show()"
   ]
  },
  {
   "cell_type": "code",
   "execution_count": null,
   "metadata": {},
   "outputs": [],
   "source": []
  }
 ],
 "metadata": {
  "kernelspec": {
   "display_name": "Python 3",
   "language": "python",
   "name": "python3"
  },
  "language_info": {
   "codemirror_mode": {
    "name": "ipython",
    "version": 3
   },
   "file_extension": ".py",
   "mimetype": "text/x-python",
   "name": "python",
   "nbconvert_exporter": "python",
   "pygments_lexer": "ipython3",
   "version": "3.8.3"
  }
 },
 "nbformat": 4,
 "nbformat_minor": 4
}
