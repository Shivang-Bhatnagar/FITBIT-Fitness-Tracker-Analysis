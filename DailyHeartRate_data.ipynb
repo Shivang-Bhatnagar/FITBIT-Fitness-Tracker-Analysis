{
 "cells": [
  {
   "cell_type": "code",
   "execution_count": null,
   "metadata": {},
   "outputs": [],
   "source": [
    "import pandas as pd\n",
    "import matplotlib.pyplot as plt\n",
    "import seaborn as sns"
   ]
  },
  {
   "cell_type": "code",
   "execution_count": null,
   "metadata": {},
   "outputs": [],
   "source": [
    "heart_rate_df = pd.read_csv(\"OneDrive/Desktop/Capstone_week9/heartrate_seconds_merged.csv\")"
   ]
  },
  {
   "cell_type": "code",
   "execution_count": null,
   "metadata": {},
   "outputs": [],
   "source": [
    "heart_rate_df.head(5)"
   ]
  },
  {
   "cell_type": "code",
   "execution_count": null,
   "metadata": {},
   "outputs": [],
   "source": [
    "heart_rate_df.tail(5)"
   ]
  },
  {
   "cell_type": "code",
   "execution_count": null,
   "metadata": {},
   "outputs": [],
   "source": [
    "heart_rate_df.info()"
   ]
  },
  {
   "cell_type": "code",
   "execution_count": null,
   "metadata": {},
   "outputs": [],
   "source": [
    "heart_rate_df.shape"
   ]
  },
  {
   "cell_type": "code",
   "execution_count": null,
   "metadata": {},
   "outputs": [],
   "source": [
    "heart_rate_df.dtypes"
   ]
  },
  {
   "cell_type": "code",
   "execution_count": null,
   "metadata": {},
   "outputs": [],
   "source": [
    "heart_rate_df.isnull().sum()"
   ]
  },
  {
   "cell_type": "code",
   "execution_count": null,
   "metadata": {},
   "outputs": [],
   "source": [
    "heart_rate_df.describe()"
   ]
  },
  {
   "cell_type": "code",
   "execution_count": null,
   "metadata": {},
   "outputs": [],
   "source": [
    "heart_rate_df['Time'] = pd.to_datetime(heart_rate_df['Time'])"
   ]
  },
  {
   "cell_type": "code",
   "execution_count": null,
   "metadata": {},
   "outputs": [],
   "source": [
    "plt.figure(figsize=(10, 6))\n",
    "sns.histplot(heart_rate_df['Value'], bins=20, kde=True)\n",
    "plt.title('Distribution of Value')\n",
    "plt.xlabel('Value')\n",
    "plt.ylabel('Frequency')\n",
    "plt.show()"
   ]
  },
  {
   "cell_type": "code",
   "execution_count": null,
   "metadata": {},
   "outputs": [],
   "source": [
    "plt.figure(figsize=(10, 6))\n",
    "sns.boxplot(heart_rate_df['Value'])\n",
    "plt.title('Box Plot of Value')\n",
    "plt.xlabel('Value')\n",
    "plt.show()\n"
   ]
  },
  {
   "cell_type": "code",
   "execution_count": null,
   "metadata": {},
   "outputs": [],
   "source": [
    "df_copy = heart_rate_df.copy()\n",
    "df_copy.set_index('Time', inplace=True)\n",
    "daily_avg_heart_rate = df_copy['Value'].resample('D').mean()\n",
    "print(daily_avg_heart_rate)"
   ]
  },
  {
   "cell_type": "code",
   "execution_count": null,
   "metadata": {},
   "outputs": [],
   "source": [
    "plt.figure(figsize=(12, 6))\n",
    "plt.plot(daily_avg_heart_rate.index, daily_avg_heart_rate.values, marker='o', linestyle='-', color='blue')\n",
    "plt.title('Heart Rate Over Time')\n",
    "plt.xlabel('Date')\n",
    "plt.ylabel('Heart Rate')\n",
    "plt.xticks(rotation=45)\n",
    "plt.grid(True)\n",
    "plt.tight_layout()\n",
    "plt.show()"
   ]
  },
  {
   "cell_type": "code",
   "execution_count": null,
   "metadata": {},
   "outputs": [],
   "source": [
    "hourly_avg_heart_rate = df_copy.groupby(df_copy.index.hour)['Value'].mean()\n",
    "\n",
    "# Plot the average heart rate by hour\n",
    "plt.figure(figsize=(10, 6))\n",
    "plt.plot(hourly_avg_heart_rate.index, hourly_avg_heart_rate.values, marker='o', linestyle='-', color='blue')\n",
    "plt.title('Average Heart Rate by Hour of the Day')\n",
    "plt.xlabel('Hour of the Day')\n",
    "plt.ylabel('Average Heart Rate')\n",
    "plt.xticks(range(24))\n",
    "plt.grid(True)\n",
    "plt.tight_layout()\n",
    "plt.show()"
   ]
  },
  {
   "cell_type": "code",
   "execution_count": null,
   "metadata": {},
   "outputs": [],
   "source": [
    "hourly_avg_heart_rate"
   ]
  },
  {
   "cell_type": "code",
   "execution_count": null,
   "metadata": {},
   "outputs": [],
   "source": [
    "df_copy['Day_of_week'] = df_copy.index.dayofweek  # Monday = 0, Sunday = 6\n",
    "df_copy['Weekday_or_weekend'] = df_copy['Day_of_week'].apply(lambda x: 'Weekend' if x >= 5 else 'Weekday')\n",
    "\n",
    "# Group the data by 'Weekday_or_weekend' and calculate the mean heart rate for each group\n",
    "average_heart_rate_by_daytype = df_copy.groupby('Weekday_or_weekend')['Value'].mean()\n",
    "\n",
    "# Plot the average heart rate for weekdays and weekends\n",
    "plt.figure(figsize=(8, 6))\n",
    "average_heart_rate_by_daytype.plot(kind='bar', color=['blue', 'orange'])\n",
    "plt.title('Average Heart Rate by Day Type')\n",
    "plt.xlabel('Day Type')\n",
    "plt.ylabel('Average Heart Rate')\n",
    "plt.xticks(rotation=0)\n",
    "plt.show()"
   ]
  },
  {
   "cell_type": "code",
   "execution_count": null,
   "metadata": {},
   "outputs": [],
   "source": []
  }
 ],
 "metadata": {
  "kernelspec": {
   "display_name": "Python 3",
   "language": "python",
   "name": "python3"
  },
  "language_info": {
   "codemirror_mode": {
    "name": "ipython",
    "version": 3
   },
   "file_extension": ".py",
   "mimetype": "text/x-python",
   "name": "python",
   "nbconvert_exporter": "python",
   "pygments_lexer": "ipython3",
   "version": "3.8.3"
  }
 },
 "nbformat": 4,
 "nbformat_minor": 4
}
