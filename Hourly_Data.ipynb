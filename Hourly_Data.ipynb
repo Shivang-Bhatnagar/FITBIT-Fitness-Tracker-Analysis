{
 "cells": [
  {
   "cell_type": "code",
   "execution_count": null,
   "metadata": {},
   "outputs": [],
   "source": [
    "import pandas as pd\n",
    "import matplotlib.pyplot as plt\n",
    "import seaborn as sns"
   ]
  },
  {
   "cell_type": "code",
   "execution_count": null,
   "metadata": {},
   "outputs": [],
   "source": [
    "calories_df = pd.read_csv(\"OneDrive/Desktop/Capstone_week9/hourlyCalories_merged.csv\")\n",
    "steps_df = pd.read_csv(\"OneDrive/Desktop/Capstone_week9/hourlySteps_merged.csv\")\n",
    "intensities_df = pd.read_csv(\"OneDrive/Desktop/Capstone_week9/hourlyIntensities_merged.csv\")"
   ]
  },
  {
   "cell_type": "code",
   "execution_count": null,
   "metadata": {},
   "outputs": [],
   "source": [
    "hourly_df = pd.merge(calories_df,steps_df)\n",
    "hourly_df = pd.merge(hourly_df,intensities_df)"
   ]
  },
  {
   "cell_type": "code",
   "execution_count": null,
   "metadata": {},
   "outputs": [],
   "source": [
    "hourly_df.info()"
   ]
  },
  {
   "cell_type": "code",
   "execution_count": null,
   "metadata": {},
   "outputs": [],
   "source": [
    "duplicate_rows = hourly_df.duplicated()\n",
    "\n",
    "# Display rows that are duplicates\n",
    "duplicate_rows = hourly_df[duplicate_rows]\n",
    "print(\"Duplicate Rows:\")\n",
    "print(duplicate_rows)"
   ]
  },
  {
   "cell_type": "code",
   "execution_count": null,
   "metadata": {},
   "outputs": [],
   "source": [
    "hourly_df.head(5)"
   ]
  },
  {
   "cell_type": "code",
   "execution_count": null,
   "metadata": {},
   "outputs": [],
   "source": [
    "hourly_df['ActivityHour'] = pd.to_datetime(hourly_df['ActivityHour'])"
   ]
  },
  {
   "cell_type": "code",
   "execution_count": null,
   "metadata": {},
   "outputs": [],
   "source": [
    "hourly_df['DayofWeek'] = hourly_df.ActivityHour.dt.day_name()"
   ]
  },
  {
   "cell_type": "code",
   "execution_count": null,
   "metadata": {},
   "outputs": [],
   "source": [
    "hourly_df.head(5)"
   ]
  },
  {
   "cell_type": "code",
   "execution_count": null,
   "metadata": {},
   "outputs": [],
   "source": [
    "hourly_df['Hour'] = hourly_df['ActivityHour'].dt.hour\n",
    "hourly_summary = hourly_df.groupby('Hour').agg({'StepTotal': 'mean', 'Calories': 'mean'})\n",
    "hourly_summary"
   ]
  },
  {
   "cell_type": "code",
   "execution_count": null,
   "metadata": {},
   "outputs": [],
   "source": [
    "plt.figure(figsize=(10, 6))\n",
    "plt.plot(hourly_summary.index, hourly_summary['StepTotal'], label='Step Count', color='blue', marker='o')\n",
    "plt.plot(hourly_summary.index, hourly_summary['Calories'], label='Calories', color='orange', marker='o')\n",
    "plt.title('Hourly Step Counts and Calorie Expenditure')\n",
    "plt.xlabel('Hour of the Day')\n",
    "plt.ylabel('Average Value')\n",
    "plt.xticks(hourly_summary.index)\n",
    "plt.grid(True)\n",
    "plt.legend()\n",
    "plt.tight_layout()\n",
    "plt.show()"
   ]
  },
  {
   "cell_type": "code",
   "execution_count": null,
   "metadata": {},
   "outputs": [],
   "source": [
    "hourly_intensity_summary = hourly_df.groupby('Hour')['TotalIntensity'].mean()\n",
    "\n",
    "plt.figure(figsize=(10, 6))\n",
    "plt.plot(hourly_intensity_summary.index, hourly_intensity_summary.values, color='blue', marker='o')\n",
    "plt.title('Hourly Activity Intensity')\n",
    "plt.xlabel('Hour of the Day')\n",
    "plt.ylabel('Average Intensity')\n",
    "plt.xticks(hourly_intensity_summary.index)\n",
    "plt.grid(True)\n",
    "plt.tight_layout()\n",
    "plt.show()\n",
    "\n",
    "# Identify peak hours\n",
    "peak_hours = hourly_intensity_summary.idxmax()\n",
    "peak_intensity = hourly_intensity_summary.max()\n",
    "print(f\"The peak hour for activity intensity is {peak_hours} with an average intensity of {peak_intensity:.2f}.\")"
   ]
  },
  {
   "cell_type": "code",
   "execution_count": null,
   "metadata": {},
   "outputs": [],
   "source": [
    "# Extract day of the week from 'ActivityHour' (0 = Monday, 1 = Tuesday, ..., 6 = Sunday)\n",
    "hourly_df['DayOfWeek'] = hourly_df['ActivityHour'].dt.dayofweek\n",
    "\n",
    "# Define a function to classify days as weekdays (0-4) or weekends (5-6)\n",
    "def classify_day(day):\n",
    "    return 'Weekend' if day >= 5 else 'Weekday'\n",
    "\n",
    "# Apply the function to create a new column indicating weekday or weekend\n",
    "hourly_df['DayType'] = hourly_df['DayOfWeek'].apply(classify_day)\n",
    "\n",
    "# Group data by day type and hour, and calculate mean step count and calorie expenditure\n",
    "hourly_summary = hourly_df.groupby(['DayType', 'Hour']).agg({'StepTotal': 'mean', 'Calories': 'mean'}).reset_index()\n",
    "\n",
    "# Plot average activity levels for weekdays and weekends\n",
    "plt.figure(figsize=(10, 6))\n",
    "\n",
    "# Plot step counts\n",
    "plt.plot(hourly_summary[hourly_summary['DayType'] == 'Weekday']['Hour'],\n",
    "         hourly_summary[hourly_summary['DayType'] == 'Weekday']['StepTotal'],\n",
    "         label='Weekday', color='blue', marker='o')\n",
    "\n",
    "plt.plot(hourly_summary[hourly_summary['DayType'] == 'Weekend']['Hour'],\n",
    "         hourly_summary[hourly_summary['DayType'] == 'Weekend']['StepTotal'],\n",
    "         label='Weekend', color='orange', marker='o')\n",
    "\n",
    "plt.title('Hourly Step Counts on Weekdays vs Weekends')\n",
    "plt.xlabel('Hour of the Day')\n",
    "plt.ylabel('Average Step Count')\n",
    "plt.xticks(hourly_summary['Hour'])\n",
    "plt.grid(True)\n",
    "plt.legend()\n",
    "plt.tight_layout()\n",
    "plt.show()"
   ]
  },
  {
   "cell_type": "code",
   "execution_count": null,
   "metadata": {},
   "outputs": [],
   "source": [
    "selected_columns = ['Calories', 'StepTotal', 'TotalIntensity', 'AverageIntensity']\n",
    "subset_df = hourly_df[selected_columns]\n",
    "correlation_matrix = subset_df.corr()\n",
    "\n",
    "# Plot the heatmap\n",
    "plt.figure(figsize=(10, 8))\n",
    "sns.heatmap(correlation_matrix, annot=True, cmap='coolwarm', fmt=\".2f\", linewidths=.5)\n",
    "plt.title('Correlation Heatmap of Numeric Variables')\n",
    "plt.show()"
   ]
  },
  {
   "cell_type": "code",
   "execution_count": null,
   "metadata": {},
   "outputs": [],
   "source": [
    "user_summary = hourly_df.groupby('Id').agg({'StepTotal': 'sum','Calories': 'sum','TotalIntensity': 'mean','AverageIntensity': 'mean'})\n",
    "user_summary.columns = ['TotalSteps', 'TotalCalories', 'AverageTotalIntensity', 'AverageActivityIntensity']\n",
    "user_summary.sort_values(by='TotalSteps', ascending=False).head(10)"
   ]
  },
  {
   "cell_type": "code",
   "execution_count": null,
   "metadata": {},
   "outputs": [],
   "source": [
    "hourly_df.set_index('ActivityHour', inplace=True)\n",
    "\n",
    "# Resample the data to daily frequency and aggregate by sum for step counts and calorie expenditure\n",
    "daily_step_counts = hourly_df['StepTotal'].resample('D').sum()\n",
    "daily_calorie_expenditure = hourly_df['Calories'].resample('D').sum()\n",
    "\n",
    "# Plot the time series for daily step counts and calorie expenditure\n",
    "plt.figure(figsize=(12, 6))\n",
    "plt.plot(daily_step_counts.index, daily_step_counts, label='Daily Step Counts', color='blue')\n",
    "plt.plot(daily_calorie_expenditure.index, daily_calorie_expenditure, label='Daily Calorie Expenditure', color='orange')\n",
    "plt.title('Time Series of Daily Step Counts and Calorie Expenditure')\n",
    "plt.xlabel('Date')\n",
    "plt.ylabel('StepCount / Calories')\n",
    "plt.legend()\n",
    "plt.grid(True)\n",
    "plt.show()"
   ]
  },
  {
   "cell_type": "code",
   "execution_count": null,
   "metadata": {},
   "outputs": [],
   "source": []
  }
 ],
 "metadata": {
  "kernelspec": {
   "display_name": "Python 3",
   "language": "python",
   "name": "python3"
  },
  "language_info": {
   "codemirror_mode": {
    "name": "ipython",
    "version": 3
   },
   "file_extension": ".py",
   "mimetype": "text/x-python",
   "name": "python",
   "nbconvert_exporter": "python",
   "pygments_lexer": "ipython3",
   "version": "3.8.3"
  }
 },
 "nbformat": 4,
 "nbformat_minor": 4
}
